{
 "cells": [
  {
   "cell_type": "code",
   "execution_count": 7,
   "id": "f2220de5-ade8-42e7-bbe1-1117b705acaf",
   "metadata": {},
   "outputs": [],
   "source": [
    "#sigmoid function ( output range is : 0 to 1) gives \"s\" curve\n",
    "# use case : used in binary classification or output layers\n",
    "import math\n",
    "def sigmoid(x):\n",
    "    return 1 / (1 + math.exp(-x))\n"
   ]
  },
  {
   "cell_type": "code",
   "execution_count": 8,
   "id": "57e11793-5150-406c-9d8a-9913f00d5639",
   "metadata": {},
   "outputs": [
    {
     "data": {
      "text/plain": [
       "0.9999999943972036"
      ]
     },
     "execution_count": 8,
     "metadata": {},
     "output_type": "execute_result"
    }
   ],
   "source": [
    "sigmoid(19)"
   ]
  },
  {
   "cell_type": "code",
   "execution_count": 9,
   "id": "dc306c27-70c1-4852-958d-45d94d4f72a3",
   "metadata": {},
   "outputs": [
    {
     "data": {
      "text/plain": [
       "0.999983298578152"
      ]
     },
     "execution_count": 9,
     "metadata": {},
     "output_type": "execute_result"
    }
   ],
   "source": [
    "sigmoid(11)"
   ]
  },
  {
   "cell_type": "code",
   "execution_count": 10,
   "id": "95f6b396-9718-42b0-ae38-ef2bc6ee1755",
   "metadata": {},
   "outputs": [
    {
     "data": {
      "text/plain": [
       "1.0"
      ]
     },
     "execution_count": 10,
     "metadata": {},
     "output_type": "execute_result"
    }
   ],
   "source": [
    "sigmoid(1911)"
   ]
  },
  {
   "cell_type": "code",
   "execution_count": 11,
   "id": "d2577cf8-a46d-4d01-9177-fdea6faa67d7",
   "metadata": {},
   "outputs": [
    {
     "data": {
      "text/plain": [
       "3.7751345441365816e-11"
      ]
     },
     "execution_count": 11,
     "metadata": {},
     "output_type": "execute_result"
    }
   ],
   "source": [
    "sigmoid(-24)"
   ]
  },
  {
   "cell_type": "code",
   "execution_count": 14,
   "id": "93d75bdf-2561-43e9-937e-e3d89c6e86ad",
   "metadata": {},
   "outputs": [],
   "source": [
    "#tanh function ( output range is : -1 to 1)\n",
    "\n",
    "def tanh(x):\n",
    "    return (math.exp(x) - math.exp(-x)) / (math.exp(x) + math.exp(-x))"
   ]
  },
  {
   "cell_type": "code",
   "execution_count": 15,
   "id": "6f3be539-ac4f-4612-9521-d3f8587d045d",
   "metadata": {},
   "outputs": [
    {
     "data": {
      "text/plain": [
       "1.0"
      ]
     },
     "execution_count": 15,
     "metadata": {},
     "output_type": "execute_result"
    }
   ],
   "source": [
    "tanh(19)"
   ]
  },
  {
   "cell_type": "code",
   "execution_count": 17,
   "id": "7054d226-ccb4-4996-80a3-ed0656cd68bf",
   "metadata": {},
   "outputs": [
    {
     "data": {
      "text/plain": [
       "0.9999999994421065"
      ]
     },
     "execution_count": 17,
     "metadata": {},
     "output_type": "execute_result"
    }
   ],
   "source": [
    "tanh(11)"
   ]
  },
  {
   "cell_type": "code",
   "execution_count": 18,
   "id": "66fa4826-bdfb-45c8-a581-2365ce2ff746",
   "metadata": {},
   "outputs": [
    {
     "data": {
      "text/plain": [
       "-1.0"
      ]
     },
     "execution_count": 18,
     "metadata": {},
     "output_type": "execute_result"
    }
   ],
   "source": [
    "tanh(-24)"
   ]
  },
  {
   "cell_type": "code",
   "execution_count": 21,
   "id": "37f87ba7-4353-428d-81c7-612568fd1cc6",
   "metadata": {},
   "outputs": [],
   "source": [
    "# RelU function (maximum of 0 and the value)\n",
    "\n",
    "def relu(x):\n",
    "    return max(0,x)"
   ]
  },
  {
   "cell_type": "code",
   "execution_count": 22,
   "id": "15382be5-f481-4a04-8324-5cc76c2ba35a",
   "metadata": {},
   "outputs": [
    {
     "data": {
      "text/plain": [
       "0"
      ]
     },
     "execution_count": 22,
     "metadata": {},
     "output_type": "execute_result"
    }
   ],
   "source": [
    "relu(-1)"
   ]
  },
  {
   "cell_type": "code",
   "execution_count": 23,
   "id": "8c52f45c-c580-4ba2-90f1-ee84ba21bcde",
   "metadata": {},
   "outputs": [
    {
     "data": {
      "text/plain": [
       "1"
      ]
     },
     "execution_count": 23,
     "metadata": {},
     "output_type": "execute_result"
    }
   ],
   "source": [
    "relu(1)"
   ]
  },
  {
   "cell_type": "code",
   "execution_count": 24,
   "id": "e34244c7-afaf-44e3-ab1d-ecb7d8a04c3c",
   "metadata": {},
   "outputs": [
    {
     "data": {
      "text/plain": [
       "19"
      ]
     },
     "execution_count": 24,
     "metadata": {},
     "output_type": "execute_result"
    }
   ],
   "source": [
    "relu(19)"
   ]
  },
  {
   "cell_type": "code",
   "execution_count": 26,
   "id": "4658c59d-e740-4252-8d02-0225c22a8fda",
   "metadata": {},
   "outputs": [],
   "source": [
    "def leaky_relu(x):\n",
    "    return max(0.1 * x , x)"
   ]
  },
  {
   "cell_type": "code",
   "execution_count": 29,
   "id": "48313ed5-ec96-409f-920d-cfaa0bd7806d",
   "metadata": {},
   "outputs": [
    {
     "data": {
      "text/plain": [
       "-10.0"
      ]
     },
     "execution_count": 29,
     "metadata": {},
     "output_type": "execute_result"
    }
   ],
   "source": [
    "leaky_relu(-100)"
   ]
  },
  {
   "cell_type": "code",
   "execution_count": 30,
   "id": "25dd2c49-f6c1-420d-af38-df2502236207",
   "metadata": {},
   "outputs": [
    {
     "data": {
      "text/plain": [
       "1"
      ]
     },
     "execution_count": 30,
     "metadata": {},
     "output_type": "execute_result"
    }
   ],
   "source": [
    "leaky_relu(1)"
   ]
  },
  {
   "cell_type": "code",
   "execution_count": null,
   "id": "0b2a3b53-9f93-4991-8db8-352f688e115b",
   "metadata": {},
   "outputs": [],
   "source": []
  }
 ],
 "metadata": {
  "kernelspec": {
   "display_name": "Python 3 (ipykernel)",
   "language": "python",
   "name": "python3"
  },
  "language_info": {
   "codemirror_mode": {
    "name": "ipython",
    "version": 3
   },
   "file_extension": ".py",
   "mimetype": "text/x-python",
   "name": "python",
   "nbconvert_exporter": "python",
   "pygments_lexer": "ipython3",
   "version": "3.12.7"
  }
 },
 "nbformat": 4,
 "nbformat_minor": 5
}
